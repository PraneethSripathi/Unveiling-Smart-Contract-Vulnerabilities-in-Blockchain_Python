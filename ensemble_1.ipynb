{
 "cells": [
  {
   "cell_type": "code",
   "execution_count": 1,
   "id": "c441d8b7-48a4-400a-a7a3-b79d741d5d82",
   "metadata": {},
   "outputs": [
    {
     "name": "stderr",
     "output_type": "stream",
     "text": [
      "C:\\Users\\choll\\AppData\\Roaming\\Python\\Python311\\site-packages\\sklearn\\ensemble\\_weight_boosting.py:527: FutureWarning: The SAMME.R algorithm (the default) is deprecated and will be removed in 1.6. Use the SAMME algorithm to circumvent this warning.\n",
      "  warnings.warn(\n"
     ]
    },
    {
     "name": "stdout",
     "output_type": "stream",
     "text": [
      "Ensemble Model Accuracy: 0.9892761394101877\n",
      "Classification Report:\n",
      "               precision    recall  f1-score   support\n",
      "\n",
      "           0       0.99      1.00      0.99       743\n",
      "           1       0.97      1.00      0.98      1384\n",
      "           2       0.92      1.00      0.96      1039\n",
      "           3       1.00      0.53      0.69       511\n",
      "           4       0.89      1.00      0.94       732\n",
      "           5       1.00      1.00      1.00       606\n",
      "           6       1.00      1.00      1.00       376\n",
      "           7       1.00      1.00      1.00      2253\n",
      "           8       1.00      1.00      1.00      2509\n",
      "           9       1.00      1.00      1.00      3384\n",
      "          10       1.00      1.00      1.00      3568\n",
      "          11       1.00      1.00      1.00      5275\n",
      "\n",
      "    accuracy                           0.99     22380\n",
      "   macro avg       0.98      0.96      0.96     22380\n",
      "weighted avg       0.99      0.99      0.99     22380\n",
      "\n",
      "Confusion Matrix:\n",
      " [[ 743    0    0    0    0    0    0    0    0    0    0    0]\n",
      " [   0 1384    0    0    0    0    0    0    0    0    0    0]\n",
      " [   0    0 1039    0    0    0    0    0    0    0    0    0]\n",
      " [   8   50   87  272   94    0    0    0    0    0    0    0]\n",
      " [   0    0    0    0  732    0    0    0    0    0    0    0]\n",
      " [   0    0    0    0    0  606    0    0    0    0    0    0]\n",
      " [   0    0    0    0    0    0  375    1    0    0    0    0]\n",
      " [   0    0    0    0    0    0    0 2253    0    0    0    0]\n",
      " [   0    0    0    0    0    0    0    0 2509    0    0    0]\n",
      " [   0    0    0    0    0    0    0    0    0 3384    0    0]\n",
      " [   0    0    0    0    0    0    0    0    0    0 3568    0]\n",
      " [   0    0    0    0    0    0    0    0    0    0    0 5275]]\n"
     ]
    }
   ],
   "source": [
    "import pandas as pd\n",
    "import numpy as np\n",
    "from sklearn.model_selection import train_test_split\n",
    "from sklearn.preprocessing import LabelEncoder, StandardScaler\n",
    "from sklearn.ensemble import AdaBoostClassifier, RandomForestClassifier, GradientBoostingClassifier, VotingClassifier\n",
    "from sklearn.metrics import accuracy_score, classification_report, confusion_matrix\n",
    "from sklearn.tree import DecisionTreeClassifier\n",
    "\n",
    "file_path = \"BCCC-SCsVul-2024.csv\"\n",
    "df = pd.read_csv(file_path)\n",
    "\n",
    "df = df.drop(columns=['ID'], errors='ignore')\n",
    "\n",
    "target_columns = [col for col in df.columns if \"Class\" in col]\n",
    "df['Target'] = df[target_columns].idxmax(axis=1)\n",
    "df = df.drop(columns=target_columns)\n",
    "\n",
    "le = LabelEncoder()\n",
    "df['Target'] = le.fit_transform(df['Target'])\n",
    "\n",
    "df = df.apply(pd.to_numeric, errors='coerce')\n",
    "\n",
    "X = df.drop(columns=['Target'])\n",
    "y = df['Target']\n",
    "\n",
    "X = X.fillna(X.mean())\n",
    "\n",
    "scaler = StandardScaler()\n",
    "X = scaler.fit_transform(X)\n",
    "\n",
    "X_train, X_test, y_train, y_test = train_test_split(X, y, test_size=0.2, random_state=42)\n",
    "\n",
    "rf = RandomForestClassifier(n_estimators=100, random_state=42)\n",
    "adaboost = AdaBoostClassifier(estimator=DecisionTreeClassifier(max_depth=1), n_estimators=100, learning_rate=0.05, random_state=42)\n",
    "gb = GradientBoostingClassifier(n_estimators=100, learning_rate=0.05, random_state=42)\n",
    "\n",
    "ensemble_model = VotingClassifier(estimators=[('rf', rf), ('adaboost', adaboost), ('gb', gb)], voting='hard')\n",
    "\n",
    "ensemble_model.fit(X_train, y_train)\n",
    "\n",
    "y_pred = ensemble_model.predict(X_test)\n",
    "\n",
    "accuracy = accuracy_score(y_test, y_pred)\n",
    "print(\"Ensemble Model Accuracy:\", accuracy)\n",
    "print(\"Classification Report:\\n\", classification_report(y_test, y_pred))\n",
    "print(\"Confusion Matrix:\\n\", confusion_matrix(y_test, y_pred))\n"
   ]
  },
  {
   "cell_type": "code",
   "execution_count": null,
   "id": "636a01e3-6271-4f3f-88b8-bb3050ef7e04",
   "metadata": {},
   "outputs": [],
   "source": []
  }
 ],
 "metadata": {
  "kernelspec": {
   "display_name": "Python 3 (ipykernel)",
   "language": "python",
   "name": "python3"
  },
  "language_info": {
   "codemirror_mode": {
    "name": "ipython",
    "version": 3
   },
   "file_extension": ".py",
   "mimetype": "text/x-python",
   "name": "python",
   "nbconvert_exporter": "python",
   "pygments_lexer": "ipython3",
   "version": "3.11.7"
  }
 },
 "nbformat": 4,
 "nbformat_minor": 5
}
