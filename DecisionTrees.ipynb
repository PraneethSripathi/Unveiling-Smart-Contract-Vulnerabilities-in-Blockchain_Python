{
 "cells": [
  {
   "cell_type": "code",
   "execution_count": 3,
   "id": "8e4a0c1e-ec4b-4645-bcd6-160111f24390",
   "metadata": {},
   "outputs": [
    {
     "name": "stdout",
     "output_type": "stream",
     "text": [
      "Decision Tree Accuracy: 0.8209562109025916\n",
      "Classification Report:\n",
      "               precision    recall  f1-score   support\n",
      "\n",
      "           0       0.00      0.00      0.00       743\n",
      "           1       0.26      1.00      0.41      1384\n",
      "           2       0.00      0.00      0.00      1039\n",
      "           3       0.00      0.00      0.00       511\n",
      "           4       0.00      0.00      0.00       732\n",
      "           5       0.00      0.00      0.00       606\n",
      "           6       0.00      0.00      0.00       376\n",
      "           7       1.00      1.00      1.00      2253\n",
      "           8       1.00      1.00      1.00      2509\n",
      "           9       1.00      1.00      1.00      3384\n",
      "          10       1.00      1.00      1.00      3568\n",
      "          11       1.00      1.00      1.00      5275\n",
      "\n",
      "    accuracy                           0.82     22380\n",
      "   macro avg       0.44      0.50      0.45     22380\n",
      "weighted avg       0.77      0.82      0.78     22380\n",
      "\n",
      "Confusion Matrix:\n",
      " [[   0  743    0    0    0    0    0    0    0    0    0    0]\n",
      " [   0 1384    0    0    0    0    0    0    0    0    0    0]\n",
      " [   0 1039    0    0    0    0    0    0    0    0    0    0]\n",
      " [   0  511    0    0    0    0    0    0    0    0    0    0]\n",
      " [   0  732    0    0    0    0    0    0    0    0    0    0]\n",
      " [   0  606    0    0    0    0    0    0    0    0    0    0]\n",
      " [   0  376    0    0    0    0    0    0    0    0    0    0]\n",
      " [   0    0    0    0    0    0    0 2253    0    0    0    0]\n",
      " [   0    0    0    0    0    0    0    0 2509    0    0    0]\n",
      " [   0    0    0    0    0    0    0    0    0 3384    0    0]\n",
      " [   0    0    0    0    0    0    0    0    0    0 3568    0]\n",
      " [   0    0    0    0    0    0    0    0    0    0    0 5275]]\n"
     ]
    },
    {
     "name": "stderr",
     "output_type": "stream",
     "text": [
      "/opt/anaconda3/lib/python3.12/site-packages/sklearn/metrics/_classification.py:1509: UndefinedMetricWarning: Precision is ill-defined and being set to 0.0 in labels with no predicted samples. Use `zero_division` parameter to control this behavior.\n",
      "  _warn_prf(average, modifier, f\"{metric.capitalize()} is\", len(result))\n",
      "/opt/anaconda3/lib/python3.12/site-packages/sklearn/metrics/_classification.py:1509: UndefinedMetricWarning: Precision is ill-defined and being set to 0.0 in labels with no predicted samples. Use `zero_division` parameter to control this behavior.\n",
      "  _warn_prf(average, modifier, f\"{metric.capitalize()} is\", len(result))\n",
      "/opt/anaconda3/lib/python3.12/site-packages/sklearn/metrics/_classification.py:1509: UndefinedMetricWarning: Precision is ill-defined and being set to 0.0 in labels with no predicted samples. Use `zero_division` parameter to control this behavior.\n",
      "  _warn_prf(average, modifier, f\"{metric.capitalize()} is\", len(result))\n"
     ]
    }
   ],
   "source": [
    "import pandas as pd\n",
    "import numpy as np\n",
    "from sklearn.model_selection import train_test_split\n",
    "from sklearn.preprocessing import LabelEncoder\n",
    "from sklearn.tree import DecisionTreeClassifier\n",
    "from sklearn.metrics import accuracy_score, classification_report, confusion_matrix\n",
    "\n",
    "\n",
    "file_path = \"BCCC-SCsVul-2024.csv\"\n",
    "df = pd.read_csv(file_path)\n",
    "\n",
    "df = df.drop(columns=['ID'], errors='ignore')\n",
    "\n",
    "target_columns = [col for col in df.columns if \"Class\" in col]\n",
    "\n",
    "\n",
    "df['Target'] = df[target_columns].idxmax(axis=1)  \n",
    "df = df.drop(columns=target_columns) \n",
    "\n",
    "le = LabelEncoder()\n",
    "df['Target'] = le.fit_transform(df['Target'])\n",
    "\n",
    "\n",
    "df = df.apply(pd.to_numeric, errors='coerce')\n",
    "df = df.fillna(df.mean())\n",
    "\n",
    "X = df.drop(columns=['Target'])\n",
    "y = df['Target']\n",
    "\n",
    "\n",
    "X_train, X_test, y_train, y_test = train_test_split(X, y, test_size=0.2, random_state=42)\n",
    "\n",
    "\n",
    "dt_model = DecisionTreeClassifier(criterion='gini', max_depth=5, random_state=42)\n",
    "dt_model.fit(X_train, y_train)\n",
    "\n",
    "y_pred = dt_model.predict(X_test)\n",
    "\n",
    "\n",
    "accuracy = accuracy_score(y_test, y_pred)\n",
    "print(\"Decision Tree Accuracy:\", accuracy)\n",
    "print(\"Classification Report:\\n\", classification_report(y_test, y_pred))\n",
    "print(\"Confusion Matrix:\\n\", confusion_matrix(y_test, y_pred))\n"
   ]
  },
  {
   "cell_type": "code",
   "execution_count": null,
   "id": "00b186aa-abd6-44c0-a0b3-5a3f3689a813",
   "metadata": {},
   "outputs": [],
   "source": []
  }
 ],
 "metadata": {
  "kernelspec": {
   "display_name": "Python 3 (ipykernel)",
   "language": "python",
   "name": "python3"
  },
  "language_info": {
   "codemirror_mode": {
    "name": "ipython",
    "version": 3
   },
   "file_extension": ".py",
   "mimetype": "text/x-python",
   "name": "python",
   "nbconvert_exporter": "python",
   "pygments_lexer": "ipython3",
   "version": "3.12.4"
  }
 },
 "nbformat": 4,
 "nbformat_minor": 5
}
